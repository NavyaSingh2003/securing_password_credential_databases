{
 "cells": [
  {
   "cell_type": "code",
   "execution_count": 36,
   "id": "21bdc69b",
   "metadata": {},
   "outputs": [],
   "source": [
    "import pandas as pd"
   ]
  },
  {
   "cell_type": "code",
   "execution_count": 37,
   "id": "3d87db71",
   "metadata": {},
   "outputs": [],
   "source": [
    "df=pd.read_csv(\"common_passwords.csv\")"
   ]
  },
  {
   "cell_type": "code",
   "execution_count": 38,
   "id": "c00db446",
   "metadata": {},
   "outputs": [],
   "source": [
    "password_column = df['password']\n",
    "password_column.to_csv('output.txt', index=False, header=False)"
   ]
  },
  {
   "cell_type": "code",
   "execution_count": 39,
   "id": "2f4cb113",
   "metadata": {},
   "outputs": [],
   "source": [
    "df = df[['password']]"
   ]
  },
  {
   "cell_type": "code",
   "execution_count": 40,
   "id": "68d08e9f",
   "metadata": {},
   "outputs": [],
   "source": [
    "df_2 = df[['password']].copy()"
   ]
  },
  {
   "cell_type": "code",
   "execution_count": 41,
   "id": "16bc7657",
   "metadata": {},
   "outputs": [
    {
     "name": "stdout",
     "output_type": "stream",
     "text": [
      "       password\n",
      "0        123456\n",
      "1      password\n",
      "2      12345678\n",
      "3        qwerty\n",
      "4     123456789\n",
      "...         ...\n",
      "9995       caca\n",
      "9996     c2h5oh\n",
      "9997   bubbles1\n",
      "9998      brook\n",
      "9999      brady\n",
      "\n",
      "[10000 rows x 1 columns]\n"
     ]
    }
   ],
   "source": [
    "print(df_2)"
   ]
  },
  {
   "cell_type": "code",
   "execution_count": 42,
   "id": "31226153",
   "metadata": {},
   "outputs": [],
   "source": [
    "import random\n",
    "def random_salt(length):\n",
    "  result=''\n",
    "  for i in range(0,length):\n",
    "    result+=str(random.randint(0,9))\n",
    "\n",
    "  return result"
   ]
  },
  {
   "cell_type": "code",
   "execution_count": 43,
   "id": "c30adfed",
   "metadata": {},
   "outputs": [],
   "source": [
    "df_2['salt'] = df_2['password'].apply(lambda password: random_salt(3))"
   ]
  },
  {
   "cell_type": "code",
   "execution_count": 44,
   "id": "e2a355a5",
   "metadata": {},
   "outputs": [
    {
     "name": "stdout",
     "output_type": "stream",
     "text": [
      "       password salt\n",
      "0        123456  015\n",
      "1      password  636\n",
      "2      12345678  990\n",
      "3        qwerty  555\n",
      "4     123456789  461\n",
      "...         ...  ...\n",
      "9995       caca  750\n",
      "9996     c2h5oh  224\n",
      "9997   bubbles1  713\n",
      "9998      brook  542\n",
      "9999      brady  465\n",
      "\n",
      "[10000 rows x 2 columns]\n"
     ]
    }
   ],
   "source": [
    "print(df_2)"
   ]
  },
  {
   "cell_type": "code",
   "execution_count": 45,
   "id": "3e0ee145",
   "metadata": {},
   "outputs": [],
   "source": [
    "def rearrange(arr1,arr2):\n",
    "  n1=len(arr1)\n",
    "  n2=len(arr2)\n",
    "  i,j,k=0,0,0\n",
    "  arr3=[]\n",
    "  while i<n1 and j<n2:\n",
    "    arr3.append(arr1[i])\n",
    "    arr3.append(arr2[j])\n",
    "    i+=1\n",
    "    j+=1\n",
    "\n",
    "  while i<n1:\n",
    "    arr3.append(arr1[i])\n",
    "    i+=1\n",
    "\n",
    "  while j<n2:\n",
    "    arr3.append(arr2[j])\n",
    "    j+=1\n",
    "\n",
    "  result=''.join(arr3)\n",
    "  return result"
   ]
  },
  {
   "cell_type": "code",
   "execution_count": 46,
   "id": "176a2391",
   "metadata": {},
   "outputs": [],
   "source": [
    "def reverse_rearrange(input_string):\n",
    "  string_to_list=list(input_string)\n",
    "  list_of_result=[]\n",
    "  for x in range(len(input_string)):\n",
    "    new_index=x\n",
    "    if x!=1 and x!=3 and x!=5:\n",
    "      list_of_result.insert(new_index,string_to_list[x])\n",
    "  result=''.join(list_of_result)\n",
    "  return result"
   ]
  },
  {
   "cell_type": "code",
   "execution_count": 47,
   "id": "436dac33",
   "metadata": {},
   "outputs": [
    {
     "name": "stdout",
     "output_type": "stream",
     "text": [
      "681\n",
      "Final Result: 3657b3da36c922e6d234749d94061589\n",
      "Reversed String: Secret123\n"
     ]
    }
   ],
   "source": [
    "# Scheme2\n",
    "# hash(rearrangement(password, salt)+salt)\n",
    "\n",
    "import hashlib\n",
    "\n",
    "def scheme2(password, salt):\n",
    "    rearranged_string = rearrange(password, salt)\n",
    "    s=rearranged_string+salt\n",
    "    hashed_result = hashlib.md5(s.encode()).hexdigest()\n",
    "\n",
    "    reversed_string = reverse_rearrange(rearranged_string)\n",
    "    return hashed_result, reversed_string\n",
    "\n",
    "\n",
    "password = \"Secret123\"\n",
    "salt = random_salt(3)\n",
    "print(salt)\n",
    "final_result, reversed_string = scheme2(password, salt)\n",
    "print(\"Final Result:\", final_result)\n",
    "print(\"Reversed String:\", reversed_string)"
   ]
  },
  {
   "cell_type": "code",
   "execution_count": 48,
   "id": "682d8c99",
   "metadata": {},
   "outputs": [],
   "source": [
    "df_2['temp_result'] = df_2.apply(lambda row: scheme2(row['password'], row['salt']), axis=1)\n",
    "\n",
    "# Split the temporary column into two separate columns\n",
    "df_2[['hashed_result', 'reversed_string']] = pd.DataFrame(df_2['temp_result'].tolist(), index=df_2.index)\n"
   ]
  },
  {
   "cell_type": "code",
   "execution_count": 50,
   "id": "c549e437",
   "metadata": {},
   "outputs": [
    {
     "name": "stdout",
     "output_type": "stream",
     "text": [
      "    password salt                                    temp_result  \\\n",
      "0     123456  015     (9c29b93fb90d5aa9f17949e53fe628fe, 123456)   \n",
      "1   password  636   (6f60bbf865a9c94a8aac2752822d8e37, password)   \n",
      "2   12345678  990   (50b8d8c52a13ea166dd054bfb2ac09b5, 12345678)   \n",
      "3     qwerty  555     (f0ae42c45a1d643576b68f65863c163f, qwerty)   \n",
      "4  123456789  461  (f8c68b58e05c979c4c319357abe37bdb, 123456789)   \n",
      "5      12345  470      (3b8f35b91a45068501f4514f8a13bb80, 12345)   \n",
      "6       1234  021       (daefc3bb5538aaf90b3d3e7da0f77e0a, 1234)   \n",
      "7     111111  543     (c3dd72ceab41867d2435246a25041362, 111111)   \n",
      "8    1234567  871    (d32b030b604540ffe87b86734573fc03, 1234567)   \n",
      "9     dragon  833     (e7387a7a87b054ffc647876de9471c7e, dragon)   \n",
      "\n",
      "                      hashed_result reversed_string  \n",
      "0  9c29b93fb90d5aa9f17949e53fe628fe          123456  \n",
      "1  6f60bbf865a9c94a8aac2752822d8e37        password  \n",
      "2  50b8d8c52a13ea166dd054bfb2ac09b5        12345678  \n",
      "3  f0ae42c45a1d643576b68f65863c163f          qwerty  \n",
      "4  f8c68b58e05c979c4c319357abe37bdb       123456789  \n",
      "5  3b8f35b91a45068501f4514f8a13bb80           12345  \n",
      "6  daefc3bb5538aaf90b3d3e7da0f77e0a            1234  \n",
      "7  c3dd72ceab41867d2435246a25041362          111111  \n",
      "8  d32b030b604540ffe87b86734573fc03         1234567  \n",
      "9  e7387a7a87b054ffc647876de9471c7e          dragon  \n"
     ]
    }
   ],
   "source": [
    "print(df_2.head(10))"
   ]
  },
  {
   "cell_type": "code",
   "execution_count": null,
   "id": "8a33563c",
   "metadata": {},
   "outputs": [],
   "source": []
  }
 ],
 "metadata": {
  "kernelspec": {
   "display_name": "Python 3 (ipykernel)",
   "language": "python",
   "name": "python3"
  },
  "language_info": {
   "codemirror_mode": {
    "name": "ipython",
    "version": 3
   },
   "file_extension": ".py",
   "mimetype": "text/x-python",
   "name": "python",
   "nbconvert_exporter": "python",
   "pygments_lexer": "ipython3",
   "version": "3.11.5"
  }
 },
 "nbformat": 4,
 "nbformat_minor": 5
}
