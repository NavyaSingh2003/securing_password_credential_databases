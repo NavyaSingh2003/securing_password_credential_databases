{
 "cells": [
  {
   "cell_type": "code",
   "execution_count": 1,
   "id": "f68ebac9",
   "metadata": {},
   "outputs": [],
   "source": [
    "import pandas as pd"
   ]
  },
  {
   "cell_type": "code",
   "execution_count": 2,
   "id": "a1b6742d",
   "metadata": {},
   "outputs": [],
   "source": [
    "df=pd.read_csv(\"common_passwords.csv\")"
   ]
  },
  {
   "cell_type": "code",
   "execution_count": 3,
   "id": "31f2b291",
   "metadata": {},
   "outputs": [],
   "source": [
    "password_column = df['password']\n",
    "password_column.to_csv('output.txt', index=False, header=False)"
   ]
  },
  {
   "cell_type": "code",
   "execution_count": 4,
   "id": "88810c6e",
   "metadata": {},
   "outputs": [],
   "source": [
    "df = df[['password']]"
   ]
  },
  {
   "cell_type": "code",
   "execution_count": 5,
   "id": "37537ee1",
   "metadata": {},
   "outputs": [],
   "source": [
    "df_2 = df[['password']].copy()"
   ]
  },
  {
   "cell_type": "code",
   "execution_count": 6,
   "id": "186ce72c",
   "metadata": {},
   "outputs": [
    {
     "name": "stdout",
     "output_type": "stream",
     "text": [
      "       password\n",
      "0        123456\n",
      "1      password\n",
      "2      12345678\n",
      "3        qwerty\n",
      "4     123456789\n",
      "...         ...\n",
      "9995       caca\n",
      "9996     c2h5oh\n",
      "9997   bubbles1\n",
      "9998      brook\n",
      "9999      brady\n",
      "\n",
      "[10000 rows x 1 columns]\n"
     ]
    }
   ],
   "source": [
    "print(df_2)"
   ]
  },
  {
   "cell_type": "code",
   "execution_count": 7,
   "id": "ff06c4d3",
   "metadata": {},
   "outputs": [],
   "source": [
    "import random\n",
    "def random_salt(length):\n",
    "  result=''\n",
    "  for i in range(0,length):\n",
    "    result+=str(random.randint(0,9))\n",
    "\n",
    "  return result"
   ]
  },
  {
   "cell_type": "code",
   "execution_count": 8,
   "id": "a5bb8913",
   "metadata": {},
   "outputs": [],
   "source": [
    "df_2['salt'] = df_2['password'].apply(lambda password: random_salt(3))"
   ]
  },
  {
   "cell_type": "code",
   "execution_count": 9,
   "id": "1b11ec13",
   "metadata": {},
   "outputs": [
    {
     "name": "stdout",
     "output_type": "stream",
     "text": [
      "       password salt\n",
      "0        123456  731\n",
      "1      password  052\n",
      "2      12345678  894\n",
      "3        qwerty  525\n",
      "4     123456789  388\n",
      "...         ...  ...\n",
      "9995       caca  953\n",
      "9996     c2h5oh  193\n",
      "9997   bubbles1  515\n",
      "9998      brook  853\n",
      "9999      brady  937\n",
      "\n",
      "[10000 rows x 2 columns]\n"
     ]
    }
   ],
   "source": [
    "print(df_2)"
   ]
  },
  {
   "cell_type": "code",
   "execution_count": 10,
   "id": "6d6cbb90",
   "metadata": {},
   "outputs": [],
   "source": [
    "def rearrange(arr1,arr2):\n",
    "  n1=len(arr1)\n",
    "  n2=len(arr2)\n",
    "  i,j,k=0,0,0\n",
    "  arr3=[]\n",
    "  while i<n1 and j<n2:\n",
    "    arr3.append(arr1[i])\n",
    "    arr3.append(arr2[j])\n",
    "    i+=1\n",
    "    j+=1\n",
    "\n",
    "  while i<n1:\n",
    "    arr3.append(arr1[i])\n",
    "    i+=1\n",
    "\n",
    "  while j<n2:\n",
    "    arr3.append(arr2[j])\n",
    "    j+=1\n",
    "\n",
    "  result=''.join(arr3)\n",
    "  return result"
   ]
  },
  {
   "cell_type": "code",
   "execution_count": 11,
   "id": "57221005",
   "metadata": {},
   "outputs": [],
   "source": [
    "def reverse_rearrange(input_string):\n",
    "  string_to_list=list(input_string)\n",
    "  list_of_result=[]\n",
    "  for x in range(len(input_string)):\n",
    "    new_index=x\n",
    "    if x!=1 and x!=3 and x!=5:\n",
    "      list_of_result.insert(new_index,string_to_list[x])\n",
    "  result=''.join(list_of_result)\n",
    "  return result"
   ]
  },
  {
   "cell_type": "code",
   "execution_count": 12,
   "id": "5a364606",
   "metadata": {},
   "outputs": [
    {
     "name": "stdout",
     "output_type": "stream",
     "text": [
      "887\n",
      "Final Result: 0ce1f9741bc28ab316d2fde5d0ac232a\n",
      "Reversed String: Secret123\n"
     ]
    }
   ],
   "source": [
    "# Scheme2\n",
    "# hash(rearrangement(password, salt)+salt)\n",
    "\n",
    "import hashlib\n",
    "\n",
    "def scheme2(password, salt):\n",
    "    rearranged_string = rearrange(password, salt)\n",
    "    s=rearranged_string+salt\n",
    "    hashed_result = hashlib.md5(s.encode()).hexdigest()\n",
    "\n",
    "    reversed_string = reverse_rearrange(rearranged_string)\n",
    "    return hashed_result, reversed_string\n",
    "\n",
    "\n",
    "password = \"Secret123\"\n",
    "salt = random_salt(3)\n",
    "print(salt)\n",
    "final_result, reversed_string = scheme2(password, salt)\n",
    "print(\"Final Result:\", final_result)\n",
    "print(\"Reversed String:\", reversed_string)"
   ]
  },
  {
   "cell_type": "code",
   "execution_count": null,
   "id": "ec5c7e4e",
   "metadata": {},
   "outputs": [],
   "source": [
    "df_1['temp_result'] = df_1.apply(lambda row: scheme1(row['password'], row['salt']), axis=1)\n",
    "\n",
    "# Split the temporary column into two separate columns\n",
    "df_1[['hashed_result', 'reversed_string']] = pd.DataFrame(df_1['temp_result'].tolist(), index=df_1.index)\n"
   ]
  },
  {
   "cell_type": "code",
   "execution_count": 13,
   "id": "6cb44569",
   "metadata": {},
   "outputs": [
    {
     "name": "stdout",
     "output_type": "stream",
     "text": [
      "       password salt\n",
      "0        123456  731\n",
      "1      password  052\n",
      "2      12345678  894\n",
      "3        qwerty  525\n",
      "4     123456789  388\n",
      "...         ...  ...\n",
      "9995       caca  953\n",
      "9996     c2h5oh  193\n",
      "9997   bubbles1  515\n",
      "9998      brook  853\n",
      "9999      brady  937\n",
      "\n",
      "[10000 rows x 2 columns]\n"
     ]
    }
   ],
   "source": [
    "print(df_2)"
   ]
  },
  {
   "cell_type": "code",
   "execution_count": null,
   "id": "d2e09941",
   "metadata": {},
   "outputs": [],
   "source": []
  }
 ],
 "metadata": {
  "kernelspec": {
   "display_name": "Python 3 (ipykernel)",
   "language": "python",
   "name": "python3"
  },
  "language_info": {
   "codemirror_mode": {
    "name": "ipython",
    "version": 3
   },
   "file_extension": ".py",
   "mimetype": "text/x-python",
   "name": "python",
   "nbconvert_exporter": "python",
   "pygments_lexer": "ipython3",
   "version": "3.11.5"
  }
 },
 "nbformat": 4,
 "nbformat_minor": 5
}
