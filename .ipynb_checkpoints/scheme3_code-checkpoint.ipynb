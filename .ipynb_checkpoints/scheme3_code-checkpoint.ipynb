{
 "cells": [
  {
   "cell_type": "code",
   "execution_count": 1,
   "id": "0144e8d5",
   "metadata": {},
   "outputs": [],
   "source": [
    "import pandas as pd"
   ]
  },
  {
   "cell_type": "code",
   "execution_count": 2,
   "id": "e9bde620",
   "metadata": {},
   "outputs": [],
   "source": [
    "df=pd.read_csv(\"common_passwords.csv\")"
   ]
  },
  {
   "cell_type": "code",
   "execution_count": 3,
   "id": "ee5982b5",
   "metadata": {},
   "outputs": [],
   "source": [
    "password_column = df['password']\n",
    "password_column.to_csv('output.txt', index=False, header=False)"
   ]
  },
  {
   "cell_type": "code",
   "execution_count": 4,
   "id": "dd404605",
   "metadata": {},
   "outputs": [],
   "source": [
    "df = df[['password']]"
   ]
  },
  {
   "cell_type": "code",
   "execution_count": 5,
   "id": "251891b0",
   "metadata": {},
   "outputs": [],
   "source": [
    "df_3 = df[['password']].copy()"
   ]
  },
  {
   "cell_type": "code",
   "execution_count": 6,
   "id": "0d4bef6e",
   "metadata": {},
   "outputs": [
    {
     "name": "stdout",
     "output_type": "stream",
     "text": [
      "       password\n",
      "0        123456\n",
      "1      password\n",
      "2      12345678\n",
      "3        qwerty\n",
      "4     123456789\n",
      "...         ...\n",
      "9995       caca\n",
      "9996     c2h5oh\n",
      "9997   bubbles1\n",
      "9998      brook\n",
      "9999      brady\n",
      "\n",
      "[10000 rows x 1 columns]\n"
     ]
    }
   ],
   "source": [
    "print(df_3)"
   ]
  },
  {
   "cell_type": "code",
   "execution_count": 7,
   "id": "0bcc57f7",
   "metadata": {},
   "outputs": [],
   "source": [
    "import random\n",
    "def random_salt(length):\n",
    "  result=''\n",
    "  for i in range(0,length):\n",
    "    result+=str(random.randint(0,9))\n",
    "\n",
    "  return result"
   ]
  },
  {
   "cell_type": "code",
   "execution_count": 8,
   "id": "0821662e",
   "metadata": {},
   "outputs": [],
   "source": [
    "df_3['salt'] = df_3['password'].apply(lambda password: random_salt(3))"
   ]
  },
  {
   "cell_type": "code",
   "execution_count": 9,
   "id": "fec165fe",
   "metadata": {},
   "outputs": [
    {
     "name": "stdout",
     "output_type": "stream",
     "text": [
      "       password salt\n",
      "0        123456  077\n",
      "1      password  823\n",
      "2      12345678  870\n",
      "3        qwerty  512\n",
      "4     123456789  826\n",
      "...         ...  ...\n",
      "9995       caca  410\n",
      "9996     c2h5oh  464\n",
      "9997   bubbles1  690\n",
      "9998      brook  626\n",
      "9999      brady  846\n",
      "\n",
      "[10000 rows x 2 columns]\n"
     ]
    }
   ],
   "source": [
    "print(df_3.head(10))"
   ]
  },
  {
   "cell_type": "code",
   "execution_count": 10,
   "id": "bf04a1df",
   "metadata": {},
   "outputs": [],
   "source": [
    "def rearrange(arr1,arr2):\n",
    "  n1=len(arr1)\n",
    "  n2=len(arr2)\n",
    "  i,j,k=0,0,0\n",
    "  arr3=[]\n",
    "  while i<n1 and j<n2:\n",
    "    arr3.append(arr1[i])\n",
    "    arr3.append(arr2[j])\n",
    "    i+=1\n",
    "    j+=1\n",
    "\n",
    "  while i<n1:\n",
    "    arr3.append(arr1[i])\n",
    "    i+=1\n",
    "\n",
    "  while j<n2:\n",
    "    arr3.append(arr2[j])\n",
    "    j+=1\n",
    "\n",
    "  result=''.join(arr3)\n",
    "  return result"
   ]
  },
  {
   "cell_type": "code",
   "execution_count": 11,
   "id": "3879e6ee",
   "metadata": {},
   "outputs": [],
   "source": [
    "def reverse_rearrange(input_string):\n",
    "  string_to_list=list(input_string)\n",
    "  list_of_result=[]\n",
    "  for x in range(len(input_string)):\n",
    "    new_index=x\n",
    "    if x!=1 and x!=3 and x!=5:\n",
    "      list_of_result.insert(new_index,string_to_list[x])\n",
    "  result=''.join(list_of_result)\n",
    "  return result"
   ]
  },
  {
   "cell_type": "code",
   "execution_count": 12,
   "id": "563e5e7a",
   "metadata": {},
   "outputs": [
    {
     "name": "stdout",
     "output_type": "stream",
     "text": [
      "244\n",
      "Hashed Result: c6376abfbee57677e5a733990aba4cdd\n",
      "Reversed String: Secret123\n"
     ]
    }
   ],
   "source": [
    "#Scheme 3\n",
    "# hash(hash(rearrangement(password, salt)))\n",
    "\n",
    "import hashlib\n",
    "\n",
    "def scheme3(password, salt):\n",
    "    rearranged_string = rearrange(password, salt)\n",
    "    hashed_password = hashlib.md5(rearranged_string.encode()).hexdigest()\n",
    "    hashed_result = hashlib.md5((hashed_password).encode()).hexdigest()\n",
    "    reversed_string = reverse_rearrange(rearranged_string)\n",
    "    return hashed_result, reversed_string\n",
    "\n",
    "\n",
    "password = \"Secret123\"\n",
    "salt = random_salt(3)\n",
    "print(salt)\n",
    "hashed_result, reversed_string = scheme3(password, salt)\n",
    "print(\"Hashed Result:\", hashed_result)\n",
    "print(\"Reversed String:\", reversed_string)\n"
   ]
  },
  {
   "cell_type": "code",
   "execution_count": 14,
   "id": "4b3c4858",
   "metadata": {},
   "outputs": [],
   "source": [
    "df_3['temp_result'] = df_3.apply(lambda row: scheme3(row['password'], row['salt']), axis=1)\n",
    "\n",
    "# Split the temporary column into two separate columns\n",
    "df_3[['hashed_result', 'reversed_string']] = pd.DataFrame(df_3['temp_result'].tolist(), index=df_3.index)\n",
    "\n",
    "# Drop the temporary column\n",
    "#df_1 = df_1.drop('temp_result', axis=1)"
   ]
  },
  {
   "cell_type": "code",
   "execution_count": 16,
   "id": "2727a358",
   "metadata": {},
   "outputs": [
    {
     "name": "stdout",
     "output_type": "stream",
     "text": [
      "    password salt                                    temp_result  \\\n",
      "0     123456  077     (1bf3d638fac174e8066681f76c7bb7bc, 123456)   \n",
      "1   password  823   (636c731231820fab27dcfc5d3f99858c, password)   \n",
      "2   12345678  870   (a44614651f3f8f41b942aae9a8cf4785, 12345678)   \n",
      "3     qwerty  512     (cb87d4e71a1fdd1264aa714acc2b82a6, qwerty)   \n",
      "4  123456789  826  (ae2b4793fbb0f5b8b17fccc2812ab2dd, 123456789)   \n",
      "5      12345  241      (a498af9c692883a5f2304a15a324f5a5, 12345)   \n",
      "6       1234  651       (750948993e213ce8148deb04bbd522fe, 1234)   \n",
      "7     111111  945     (c70824d682ebc3281cbff76c8c05ae5c, 111111)   \n",
      "8    1234567  860    (0488fb6f7c0e69dceb941372548333ce, 1234567)   \n",
      "9     dragon  703     (54217e7967d2ad1f556f83449e9544cb, dragon)   \n",
      "\n",
      "                      hashed_result reversed_string  \n",
      "0  1bf3d638fac174e8066681f76c7bb7bc          123456  \n",
      "1  636c731231820fab27dcfc5d3f99858c        password  \n",
      "2  a44614651f3f8f41b942aae9a8cf4785        12345678  \n",
      "3  cb87d4e71a1fdd1264aa714acc2b82a6          qwerty  \n",
      "4  ae2b4793fbb0f5b8b17fccc2812ab2dd       123456789  \n",
      "5  a498af9c692883a5f2304a15a324f5a5           12345  \n",
      "6  750948993e213ce8148deb04bbd522fe            1234  \n",
      "7  c70824d682ebc3281cbff76c8c05ae5c          111111  \n",
      "8  0488fb6f7c0e69dceb941372548333ce         1234567  \n",
      "9  54217e7967d2ad1f556f83449e9544cb          dragon  \n"
     ]
    }
   ],
   "source": [
    "print(df_3.head(10))"
   ]
  },
  {
   "cell_type": "code",
   "execution_count": null,
   "id": "61336a66",
   "metadata": {},
   "outputs": [],
   "source": []
  }
 ],
 "metadata": {
  "kernelspec": {
   "display_name": "Python 3 (ipykernel)",
   "language": "python",
   "name": "python3"
  },
  "language_info": {
   "codemirror_mode": {
    "name": "ipython",
    "version": 3
   },
   "file_extension": ".py",
   "mimetype": "text/x-python",
   "name": "python",
   "nbconvert_exporter": "python",
   "pygments_lexer": "ipython3",
   "version": "3.11.5"
  }
 },
 "nbformat": 4,
 "nbformat_minor": 5
}
